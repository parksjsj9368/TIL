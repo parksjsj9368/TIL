{
 "cells": [
  {
   "cell_type": "markdown",
   "metadata": {},
   "source": [
    "## 난수 발생 및 카운팅. 통계계산 함수 소개\n",
    "- count(데이터 개수)\n",
    "- mean, average(평균)\n",
    "- variance(분산)\n",
    "- stadard deviation(표준편차)\n",
    "- max, min, median, quartile\n",
    "\n",
    "- np.random.rand : 0 부터 1사이의 균일한 값을 리턴하는 분포\n",
    "- np.random,rands : 정규분포\n",
    "- np.random randint : 0부터 1사이의 균일한 값을 리턴하는 비율"
   ]
  },
  {
   "cell_type": "code",
   "execution_count": 17,
   "metadata": {},
   "outputs": [],
   "source": [
    "import numpy as np\n",
    "\n",
    "x = np.array([18,5,10,23,19,-8,10,0,0,5,2,15,8,2,5,4,15,-1,4,-7,-24,7,9,-6])"
   ]
  },
  {
   "cell_type": "code",
   "execution_count": 18,
   "metadata": {},
   "outputs": [
    {
     "data": {
      "text/plain": [
       "24"
      ]
     },
     "execution_count": 18,
     "metadata": {},
     "output_type": "execute_result"
    }
   ],
   "source": [
    "len(x)"
   ]
  },
  {
   "cell_type": "code",
   "execution_count": 21,
   "metadata": {},
   "outputs": [
    {
     "name": "stdout",
     "output_type": "stream",
     "text": [
      "4.791666666666667\n",
      "97.83159722222221\n",
      "9.89098565473746\n",
      "23\n",
      "-24\n",
      "5.0\n"
     ]
    }
   ],
   "source": [
    "print(np.mean(x))\n",
    "print(np.var(x))\n",
    "print(np.std(x))\n",
    "print(np.max(x))\n",
    "print(np.min(x))\n",
    "print(np.median(x))"
   ]
  },
  {
   "cell_type": "markdown",
   "metadata": {},
   "source": [
    "## 사분위의 수"
   ]
  },
  {
   "cell_type": "code",
   "execution_count": 20,
   "metadata": {},
   "outputs": [
    {
     "name": "stdout",
     "output_type": "stream",
     "text": [
      "-24.0\n",
      "0.0\n",
      "5.0\n",
      "10.0\n",
      "23.0\n"
     ]
    }
   ],
   "source": [
    "print(np.percentile(x,0))\n",
    "print(np.percentile(x,25))\n",
    "print(np.percentile(x,50))\n",
    "print(np.percentile(x,75))\n",
    "print(np.percentile(x,100))"
   ]
  },
  {
   "cell_type": "markdown",
   "metadata": {},
   "source": [
    "- random 서브패키지에 난수를 발생시키는 함수 제공\n",
    "- np.random.seed(0)"
   ]
  },
  {
   "cell_type": "code",
   "execution_count": 24,
   "metadata": {},
   "outputs": [
    {
     "data": {
      "text/plain": [
       "array([0.5488135 , 0.71518937, 0.60276338, 0.54488318, 0.4236548 ])"
      ]
     },
     "execution_count": 24,
     "metadata": {},
     "output_type": "execute_result"
    }
   ],
   "source": [
    "np.random.seed(0)\n",
    "np.random.rand(5)"
   ]
  },
  {
   "cell_type": "markdown",
   "metadata": {},
   "source": [
    "- 데이터 샘플링\n",
    "- choice(배열, size = 샘플링 숫자, replace = T(복원추출, default), p=각 데이터가 선택될 확률)"
   ]
  },
  {
   "cell_type": "code",
   "execution_count": 30,
   "metadata": {},
   "outputs": [
    {
     "name": "stdout",
     "output_type": "stream",
     "text": [
      "[3 0 1]\n",
      "[2 3 0]\n"
     ]
    }
   ],
   "source": [
    "print(np.random.choice(5, 3, replace=True))\n",
    "print(np.random.choice(5, 3, replace=False))"
   ]
  },
  {
   "cell_type": "code",
   "execution_count": 95,
   "metadata": {},
   "outputs": [
    {
     "data": {
      "text/plain": [
       "array([2, 3, 2, 3, 3, 2, 3, 3, 0, 3], dtype=int64)"
      ]
     },
     "execution_count": 95,
     "metadata": {},
     "output_type": "execute_result"
    }
   ],
   "source": [
    "np.random.choice(5, 10, p=[0.1,0,0.3,0.6,0])"
   ]
  },
  {
   "cell_type": "markdown",
   "metadata": {},
   "source": [
    "- np.random.randn() : 표준정규분포(평균 0, 표준편차 1) 확률에서 실수만 표본"
   ]
  },
  {
   "cell_type": "code",
   "execution_count": 96,
   "metadata": {},
   "outputs": [],
   "source": [
    "import matplotlib.pyplot as plt"
   ]
  },
  {
   "cell_type": "code",
   "execution_count": 99,
   "metadata": {},
   "outputs": [
    {
     "name": "stdout",
     "output_type": "stream",
     "text": [
      "[[-0.38841958  1.05014196 -0.03206939 -0.04773387 -0.27734295]\n",
      " [-0.47213627 -0.18532964  0.19542023  1.48838294  0.32484357]\n",
      " [-1.18814232 -0.14941428 -0.30332892 -1.35969704 -2.13801735]]\n"
     ]
    },
    {
     "data": {
      "image/png": "[encoded data removed]",
      "text/plain": [
       "<Figure size 432x288 with 1 Axes>"
      ]
     },
     "metadata": {},
     "output_type": "display_data"
    }
   ],
   "source": [
    "arr = np.random.randn(3,5)\n",
    "print(arr)\n",
    "plt.hist(arr)\n",
    "plt.show()"
   ]
  },
  {
   "cell_type": "code",
   "execution_count": 100,
   "metadata": {},
   "outputs": [
    {
     "data": {
      "text/plain": [
       "array([3, 8, 5, 5, 1])"
      ]
     },
     "execution_count": 100,
     "metadata": {},
     "output_type": "execute_result"
    }
   ],
   "source": [
    "np.random.randint(10, size=5)"
   ]
  },
  {
   "cell_type": "code",
   "execution_count": 101,
   "metadata": {},
   "outputs": [
    {
     "data": {
      "text/plain": [
       "array([19, 17, 12, 11, 10, 11, 10, 11, 11, 16])"
      ]
     },
     "execution_count": 101,
     "metadata": {},
     "output_type": "execute_result"
    }
   ],
   "source": [
    "np.random.randint(10, 20, size=10)"
   ]
  },
  {
   "cell_type": "code",
   "execution_count": 102,
   "metadata": {},
   "outputs": [
    {
     "data": {
      "text/plain": [
       "array([[18, 18, 13, 12, 10],\n",
       "       [17, 14, 16, 10, 15],\n",
       "       [13, 13, 19, 14, 19]])"
      ]
     },
     "execution_count": 102,
     "metadata": {},
     "output_type": "execute_result"
    }
   ],
   "source": [
    "np.random.randint(10, 20, size=(3,5))"
   ]
  },
  {
   "cell_type": "code",
   "execution_count": 103,
   "metadata": {},
   "outputs": [
    {
     "data": {
      "text/plain": [
       "array([ 2, 11, 34])"
      ]
     },
     "execution_count": 103,
     "metadata": {},
     "output_type": "execute_result"
    }
   ],
   "source": [
    "np.unique([11, 11, 2, 2, 34, 34])"
   ]
  },
  {
   "cell_type": "code",
   "execution_count": 104,
   "metadata": {},
   "outputs": [
    {
     "name": "stdout",
     "output_type": "stream",
     "text": [
      "idx :  ['a' 'b' 'c']\n",
      "cnt :  [2 2 1]\n"
     ]
    }
   ],
   "source": [
    "arr = np.array(['a','b','b','c','a'])\n",
    "index, count = np.unique(arr, return_counts=True)\n",
    "print('idx : ', index)\n",
    "print('cnt : ', count)"
   ]
  },
  {
   "cell_type": "markdown",
   "metadata": {},
   "source": [
    "- bincount() : 데이터가 없을 경우에는 카운트 값이 0이 리턴된다"
   ]
  },
  {
   "cell_type": "code",
   "execution_count": 105,
   "metadata": {},
   "outputs": [
    {
     "data": {
      "text/plain": [
       "array([0, 2, 3, 1], dtype=int64)"
      ]
     },
     "execution_count": 105,
     "metadata": {},
     "output_type": "execute_result"
    }
   ],
   "source": [
    "np.bincount([1,1,2,2,2,3], minlength=3)"
   ]
  }
 ],
 "metadata": {
  "kernelspec": {
   "display_name": "Python 3",
   "language": "python",
   "name": "python3"
  },
  "language_info": {
   "codemirror_mode": {
    "name": "ipython",
    "version": 3
   },
   "file_extension": ".py",
   "mimetype": "text/x-python",
   "name": "python",
   "nbconvert_exporter": "python",
   "pygments_lexer": "ipython3",
   "version": "3.6.5"
  }
 },
 "nbformat": 4,
 "nbformat_minor": 2
}
