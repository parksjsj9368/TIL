{
 "cells": [
  {
   "cell_type": "code",
   "execution_count": 1,
   "metadata": {},
   "outputs": [],
   "source": [
    "import numpy as np\n",
    "import pandas as pd"
   ]
  },
  {
   "cell_type": "code",
   "execution_count": 2,
   "metadata": {},
   "outputs": [],
   "source": [
    "song_meta = pd.read_json('C:/Users/user/Desktop/arena_melon/dataset/song_meta.json', typ='frame', encoding='utf-8')\n",
    "train = pd.read_json('C:/Users/user/Desktop/arena_melon/dataset/train.json', typ='frame', encoding='utf-8')\n",
    "results = pd.read_json('C:/Users/user/Desktop/arena_melon/dataset/results.json', typ='frame', encoding='utf-8')\n",
    "val = pd.read_json('C:/Users/user/Desktop/arena_melon/dataset/val.json', typ='frame', encoding='utf-8')"
   ]
  },
  {
   "cell_type": "code",
   "execution_count": 3,
   "metadata": {},
   "outputs": [],
   "source": [
    "# train"
   ]
  },
  {
   "cell_type": "code",
   "execution_count": 4,
   "metadata": {},
   "outputs": [],
   "source": [
    "# results"
   ]
  },
  {
   "cell_type": "code",
   "execution_count": 5,
   "metadata": {},
   "outputs": [],
   "source": [
    "# val"
   ]
  },
  {
   "cell_type": "markdown",
   "metadata": {},
   "source": [
    "## VAL데이터와 RESULTS데이터 합치기"
   ]
  },
  {
   "cell_type": "code",
   "execution_count": 6,
   "metadata": {},
   "outputs": [],
   "source": [
    "for i in range(len(val)):\n",
    "    \n",
    "    # id 이름이 같다면\n",
    "    if results.iloc[i,0] == val.iloc[i,1] :\n",
    "        \n",
    "        # 기존 val['tags']에 results['tags'] 추가\n",
    "        val.iloc[i,0].extend(results.iloc[i,2])\n",
    "        \n",
    "        # 기존 val['song']에 results['songs'] 추가\n",
    "        val.iloc[i,3].extend(results.iloc[i,1])"
   ]
  },
  {
   "cell_type": "code",
   "execution_count": 7,
   "metadata": {},
   "outputs": [],
   "source": [
    "# val"
   ]
  },
  {
   "cell_type": "markdown",
   "metadata": {},
   "source": [
    "## VAL데이터와 TRAIN데이터 합치기"
   ]
  },
  {
   "cell_type": "code",
   "execution_count": 8,
   "metadata": {},
   "outputs": [],
   "source": [
    "data = train.append(val, ignore_index=True)"
   ]
  },
  {
   "cell_type": "code",
   "execution_count": 9,
   "metadata": {},
   "outputs": [],
   "source": [
    "# datat\n",
    "# data.info()"
   ]
  },
  {
   "cell_type": "markdown",
   "metadata": {},
   "source": [
    "## like_cnt 1000개 이상 플레이리스트만 뽑아내기"
   ]
  },
  {
   "cell_type": "code",
   "execution_count": 10,
   "metadata": {},
   "outputs": [
    {
     "data": {
      "text/html": [
       "<div>\n",
       "<style scoped>\n",
       "    .dataframe tbody tr th:only-of-type {\n",
       "        vertical-align: middle;\n",
       "    }\n",
       "\n",
       "    .dataframe tbody tr th {\n",
       "        vertical-align: top;\n",
       "    }\n",
       "\n",
       "    .dataframe thead th {\n",
       "        text-align: right;\n",
       "    }\n",
       "</style>\n",
       "<table border=\"1\" class=\"dataframe\">\n",
       "  <thead>\n",
       "    <tr style=\"text-align: right;\">\n",
       "      <th></th>\n",
       "      <th>id</th>\n",
       "      <th>like_cnt</th>\n",
       "    </tr>\n",
       "  </thead>\n",
       "  <tbody>\n",
       "    <tr>\n",
       "      <th>count</th>\n",
       "      <td>138086.000000</td>\n",
       "      <td>138086.000000</td>\n",
       "    </tr>\n",
       "    <tr>\n",
       "      <th>mean</th>\n",
       "      <td>76729.721521</td>\n",
       "      <td>94.180866</td>\n",
       "    </tr>\n",
       "    <tr>\n",
       "      <th>std</th>\n",
       "      <td>44299.861318</td>\n",
       "      <td>552.813704</td>\n",
       "    </tr>\n",
       "    <tr>\n",
       "      <th>min</th>\n",
       "      <td>1.000000</td>\n",
       "      <td>0.000000</td>\n",
       "    </tr>\n",
       "    <tr>\n",
       "      <th>25%</th>\n",
       "      <td>38308.250000</td>\n",
       "      <td>2.000000</td>\n",
       "    </tr>\n",
       "    <tr>\n",
       "      <th>50%</th>\n",
       "      <td>76758.500000</td>\n",
       "      <td>7.000000</td>\n",
       "    </tr>\n",
       "    <tr>\n",
       "      <th>75%</th>\n",
       "      <td>115061.750000</td>\n",
       "      <td>24.000000</td>\n",
       "    </tr>\n",
       "    <tr>\n",
       "      <th>max</th>\n",
       "      <td>153428.000000</td>\n",
       "      <td>53211.000000</td>\n",
       "    </tr>\n",
       "  </tbody>\n",
       "</table>\n",
       "</div>"
      ],
      "text/plain": [
       "                  id       like_cnt\n",
       "count  138086.000000  138086.000000\n",
       "mean    76729.721521      94.180866\n",
       "std     44299.861318     552.813704\n",
       "min         1.000000       0.000000\n",
       "25%     38308.250000       2.000000\n",
       "50%     76758.500000       7.000000\n",
       "75%    115061.750000      24.000000\n",
       "max    153428.000000   53211.000000"
      ]
     },
     "execution_count": 10,
     "metadata": {},
     "output_type": "execute_result"
    }
   ],
   "source": [
    "data.describe()\n",
    "# like_cnt >= 24 : 35158 플레이리스트\n",
    "# like_cnt >= 100 : 16689 플레이리스트\n",
    "# like_cnt >= 1000 : 2352 플레이리스트"
   ]
  },
  {
   "cell_type": "code",
   "execution_count": 11,
   "metadata": {},
   "outputs": [],
   "source": [
    "data_filter = data[data['like_cnt']>=1000]\n",
    "# data_filter"
   ]
  },
  {
   "cell_type": "code",
   "execution_count": 12,
   "metadata": {},
   "outputs": [
    {
     "name": "stdout",
     "output_type": "stream",
     "text": [
      "231820\n",
      "92986\n"
     ]
    }
   ],
   "source": [
    "# 2352 플레이리스트에 포함된 곡 수\n",
    "print(len(sum(data_filter['songs'].tolist(), [])))\n",
    "# 2352 플레이리스트에 포함된 중복제거한 곡 수\n",
    "print(len(set(sum(data_filter['songs'].tolist(), []))))"
   ]
  },
  {
   "cell_type": "code",
   "execution_count": 13,
   "metadata": {},
   "outputs": [],
   "source": [
    "# 2352 플레이리스트에 포함된 곡 id\n",
    "select_song = list(set(sum(data_filter['songs'].tolist(), [])))\n",
    "# select_song"
   ]
  },
  {
   "cell_type": "markdown",
   "metadata": {},
   "source": [
    "## song_meta에서 song_id로 뽑아내기"
   ]
  },
  {
   "cell_type": "code",
   "execution_count": 14,
   "metadata": {},
   "outputs": [],
   "source": [
    "song_meta_filter = song_meta[song_meta['id'].isin(select_song)]\n",
    "song_meta_filter = song_meta_filter.reset_index(drop=True)"
   ]
  },
  {
   "cell_type": "code",
   "execution_count": 15,
   "metadata": {},
   "outputs": [
    {
     "data": {
      "text/html": [
       "<div>\n",
       "<style scoped>\n",
       "    .dataframe tbody tr th:only-of-type {\n",
       "        vertical-align: middle;\n",
       "    }\n",
       "\n",
       "    .dataframe tbody tr th {\n",
       "        vertical-align: top;\n",
       "    }\n",
       "\n",
       "    .dataframe thead th {\n",
       "        text-align: right;\n",
       "    }\n",
       "</style>\n",
       "<table border=\"1\" class=\"dataframe\">\n",
       "  <thead>\n",
       "    <tr style=\"text-align: right;\">\n",
       "      <th></th>\n",
       "      <th>song_gn_dtl_gnr_basket</th>\n",
       "      <th>issue_date</th>\n",
       "      <th>album_name</th>\n",
       "      <th>album_id</th>\n",
       "      <th>artist_id_basket</th>\n",
       "      <th>song_name</th>\n",
       "      <th>song_gn_gnr_basket</th>\n",
       "      <th>artist_name_basket</th>\n",
       "      <th>id</th>\n",
       "    </tr>\n",
       "  </thead>\n",
       "  <tbody>\n",
       "    <tr>\n",
       "      <th>0</th>\n",
       "      <td>[GN1102, GN1101]</td>\n",
       "      <td>20151016</td>\n",
       "      <td>Feeling Right (Everything Is Nice) (Feat. Popc...</td>\n",
       "      <td>2644882</td>\n",
       "      <td>[838543]</td>\n",
       "      <td>Feeling Right (Everything Is Nice) (Feat. Popc...</td>\n",
       "      <td>[GN1100]</td>\n",
       "      <td>[Matoma]</td>\n",
       "      <td>3</td>\n",
       "    </tr>\n",
       "    <tr>\n",
       "      <th>1</th>\n",
       "      <td>[GN1201]</td>\n",
       "      <td>20170407</td>\n",
       "      <td>Luv.Loops</td>\n",
       "      <td>10053652</td>\n",
       "      <td>[1625859]</td>\n",
       "      <td>Hi (Heyoo)</td>\n",
       "      <td>[GN1200]</td>\n",
       "      <td>[Miraa.]</td>\n",
       "      <td>10</td>\n",
       "    </tr>\n",
       "    <tr>\n",
       "      <th>2</th>\n",
       "      <td>[GN1301]</td>\n",
       "      <td>20080610</td>\n",
       "      <td>Classic Masters</td>\n",
       "      <td>133952</td>\n",
       "      <td>[104493]</td>\n",
       "      <td>Everything We Do (2002 Digital Remaster)</td>\n",
       "      <td>[GN1300]</td>\n",
       "      <td>[Rene &amp; Angela]</td>\n",
       "      <td>11</td>\n",
       "    </tr>\n",
       "    <tr>\n",
       "      <th>3</th>\n",
       "      <td>[GN2704, GN1104, GN1103, GN1101]</td>\n",
       "      <td>20140728</td>\n",
       "      <td>Knock You Out (Remixes)</td>\n",
       "      <td>2269860</td>\n",
       "      <td>[455705]</td>\n",
       "      <td>Knock You Out</td>\n",
       "      <td>[GN2700, GN1100]</td>\n",
       "      <td>[Bingo Players]</td>\n",
       "      <td>14</td>\n",
       "    </tr>\n",
       "    <tr>\n",
       "      <th>4</th>\n",
       "      <td>[GN0805, GN0501, GN0502, GN0801, GN0509]</td>\n",
       "      <td>20150205</td>\n",
       "      <td>내가 부른 그림 2</td>\n",
       "      <td>2303168</td>\n",
       "      <td>[230399]</td>\n",
       "      <td>무얼 기다리나 (Feat. 조원선)</td>\n",
       "      <td>[GN0500, GN0800]</td>\n",
       "      <td>[이영훈]</td>\n",
       "      <td>19</td>\n",
       "    </tr>\n",
       "    <tr>\n",
       "      <th>...</th>\n",
       "      <td>...</td>\n",
       "      <td>...</td>\n",
       "      <td>...</td>\n",
       "      <td>...</td>\n",
       "      <td>...</td>\n",
       "      <td>...</td>\n",
       "      <td>...</td>\n",
       "      <td>...</td>\n",
       "      <td>...</td>\n",
       "    </tr>\n",
       "    <tr>\n",
       "      <th>92981</th>\n",
       "      <td>[GN0805, GN0801]</td>\n",
       "      <td>20120604</td>\n",
       "      <td>그저 그런 오후</td>\n",
       "      <td>2125663</td>\n",
       "      <td>[593714]</td>\n",
       "      <td>그저 그런 오후</td>\n",
       "      <td>[GN0800]</td>\n",
       "      <td>[소요]</td>\n",
       "      <td>707927</td>\n",
       "    </tr>\n",
       "    <tr>\n",
       "      <th>92982</th>\n",
       "      <td>[GN0601]</td>\n",
       "      <td>20141224</td>\n",
       "      <td>넥스트 신해철 Reboot Yourself</td>\n",
       "      <td>2296666</td>\n",
       "      <td>[845]</td>\n",
       "      <td>Hope</td>\n",
       "      <td>[GN0600]</td>\n",
       "      <td>[신해철]</td>\n",
       "      <td>707932</td>\n",
       "    </tr>\n",
       "    <tr>\n",
       "      <th>92983</th>\n",
       "      <td>[GN0702, GN0708, GN0701]</td>\n",
       "      <td>20200313</td>\n",
       "      <td>내일은 미스터트롯 결승전 베스트</td>\n",
       "      <td>10402513</td>\n",
       "      <td>[2763943]</td>\n",
       "      <td>나는 남자다</td>\n",
       "      <td>[GN0700]</td>\n",
       "      <td>[김희재]</td>\n",
       "      <td>707949</td>\n",
       "    </tr>\n",
       "    <tr>\n",
       "      <th>92984</th>\n",
       "      <td>[GN2704, GN1104, GN1103, GN1101]</td>\n",
       "      <td>20131008</td>\n",
       "      <td>Revolution</td>\n",
       "      <td>2210541</td>\n",
       "      <td>[487526]</td>\n",
       "      <td>Biggie Bounce</td>\n",
       "      <td>[GN2700, GN1100]</td>\n",
       "      <td>[Diplo]</td>\n",
       "      <td>707964</td>\n",
       "    </tr>\n",
       "    <tr>\n",
       "      <th>92985</th>\n",
       "      <td>[GN0105, GN0101]</td>\n",
       "      <td>20160120</td>\n",
       "      <td>행보 2015 윤종신 / 작사가 윤종신 Live Part.1</td>\n",
       "      <td>2662866</td>\n",
       "      <td>[437]</td>\n",
       "      <td>스치듯 안녕</td>\n",
       "      <td>[GN0100]</td>\n",
       "      <td>[윤종신]</td>\n",
       "      <td>707986</td>\n",
       "    </tr>\n",
       "  </tbody>\n",
       "</table>\n",
       "<p>92986 rows × 9 columns</p>\n",
       "</div>"
      ],
      "text/plain": [
       "                         song_gn_dtl_gnr_basket  issue_date  \\\n",
       "0                              [GN1102, GN1101]    20151016   \n",
       "1                                      [GN1201]    20170407   \n",
       "2                                      [GN1301]    20080610   \n",
       "3              [GN2704, GN1104, GN1103, GN1101]    20140728   \n",
       "4      [GN0805, GN0501, GN0502, GN0801, GN0509]    20150205   \n",
       "...                                         ...         ...   \n",
       "92981                          [GN0805, GN0801]    20120604   \n",
       "92982                                  [GN0601]    20141224   \n",
       "92983                  [GN0702, GN0708, GN0701]    20200313   \n",
       "92984          [GN2704, GN1104, GN1103, GN1101]    20131008   \n",
       "92985                          [GN0105, GN0101]    20160120   \n",
       "\n",
       "                                              album_name  album_id  \\\n",
       "0      Feeling Right (Everything Is Nice) (Feat. Popc...   2644882   \n",
       "1                                              Luv.Loops  10053652   \n",
       "2                                        Classic Masters    133952   \n",
       "3                                Knock You Out (Remixes)   2269860   \n",
       "4                                             내가 부른 그림 2   2303168   \n",
       "...                                                  ...       ...   \n",
       "92981                                           그저 그런 오후   2125663   \n",
       "92982                            넥스트 신해철 Reboot Yourself   2296666   \n",
       "92983                                  내일은 미스터트롯 결승전 베스트  10402513   \n",
       "92984                                         Revolution   2210541   \n",
       "92985                  행보 2015 윤종신 / 작사가 윤종신 Live Part.1   2662866   \n",
       "\n",
       "      artist_id_basket                                          song_name  \\\n",
       "0             [838543]  Feeling Right (Everything Is Nice) (Feat. Popc...   \n",
       "1            [1625859]                                         Hi (Heyoo)   \n",
       "2             [104493]           Everything We Do (2002 Digital Remaster)   \n",
       "3             [455705]                                      Knock You Out   \n",
       "4             [230399]                                무얼 기다리나 (Feat. 조원선)   \n",
       "...                ...                                                ...   \n",
       "92981         [593714]                                           그저 그런 오후   \n",
       "92982            [845]                                               Hope   \n",
       "92983        [2763943]                                             나는 남자다   \n",
       "92984         [487526]                                      Biggie Bounce   \n",
       "92985            [437]                                             스치듯 안녕   \n",
       "\n",
       "      song_gn_gnr_basket artist_name_basket      id  \n",
       "0               [GN1100]           [Matoma]       3  \n",
       "1               [GN1200]           [Miraa.]      10  \n",
       "2               [GN1300]    [Rene & Angela]      11  \n",
       "3       [GN2700, GN1100]    [Bingo Players]      14  \n",
       "4       [GN0500, GN0800]              [이영훈]      19  \n",
       "...                  ...                ...     ...  \n",
       "92981           [GN0800]               [소요]  707927  \n",
       "92982           [GN0600]              [신해철]  707932  \n",
       "92983           [GN0700]              [김희재]  707949  \n",
       "92984   [GN2700, GN1100]            [Diplo]  707964  \n",
       "92985           [GN0100]              [윤종신]  707986  \n",
       "\n",
       "[92986 rows x 9 columns]"
      ]
     },
     "execution_count": 15,
     "metadata": {},
     "output_type": "execute_result"
    }
   ],
   "source": [
    "song_meta_filter"
   ]
  },
  {
   "cell_type": "code",
   "execution_count": 16,
   "metadata": {},
   "outputs": [],
   "source": [
    "song_meta_filter.to_csv('C:/Users/user/Desktop/final/song_meta_filter.csv', encoding='utf-8-sig')"
   ]
  }
 ],
 "metadata": {
  "kernelspec": {
   "display_name": "Python 3",
   "language": "python",
   "name": "python3"
  },
  "language_info": {
   "codemirror_mode": {
    "name": "ipython",
    "version": 3
   },
   "file_extension": ".py",
   "mimetype": "text/x-python",
   "name": "python",
   "nbconvert_exporter": "python",
   "pygments_lexer": "ipython3",
   "version": "3.8.3"
  }
 },
 "nbformat": 4,
 "nbformat_minor": 4
}
