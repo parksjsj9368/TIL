{
 "cells": [
  {
   "cell_type": "code",
   "execution_count": 1,
   "metadata": {},
   "outputs": [],
   "source": [
    "import pandas as pd\n",
    "import numpy as np\n",
    "import datetime\n",
    "from tqdm.notebook import tqdm\n",
    "\n",
    "from sklearn.linear_model import LogisticRegression\n",
    "from sklearn.metrics import accuracy_score\n",
    "from sklearn.metrics import f1_score\n",
    "from sklearn.metrics import roc_auc_score\n",
    "import pickle"
   ]
  },
  {
   "cell_type": "markdown",
   "metadata": {},
   "source": [
    "# gz 확장자 압축 해제"
   ]
  },
  {
   "cell_type": "code",
   "execution_count": 2,
   "metadata": {},
   "outputs": [],
   "source": [
    "# !tar xvzf Criteo_Conversion_Search_4.tar.gz"
   ]
  },
  {
   "cell_type": "markdown",
   "metadata": {},
   "source": [
    "# 파일 DF 형태로 불러오기"
   ]
  },
  {
   "cell_type": "code",
   "execution_count": 3,
   "metadata": {},
   "outputs": [
    {
     "data": {
      "application/vnd.jupyter.widget-view+json": {
       "model_id": "21bfe3e753af4b578f4843ae460b019d",
       "version_major": 2,
       "version_minor": 0
      },
      "text/plain": [
       "  0%|          | 0/1500000 [00:00<?, ?it/s]"
      ]
     },
     "metadata": {},
     "output_type": "display_data"
    }
   ],
   "source": [
    "f = open('./Criteo_Conversion_Search/CriteoSearchData','r')\n",
    "\n",
    "df = []\n",
    "for _ in tqdm(range(1500000)):\n",
    "    line = f.readline()\n",
    "    line = line.replace('\\n','')\n",
    "    df.append(line.split('\\t'))"
   ]
  },
  {
   "cell_type": "code",
   "execution_count": 4,
   "metadata": {},
   "outputs": [],
   "source": [
    "df = pd.DataFrame(df)\n",
    "df.columns = ['Sale','SaleAmountInEuro','Time_delay_for_conversion',\n",
    "                'click_timestamp','nb_clicks_1week','product_price','product_age_group','device_type',\n",
    "                'audience_id','product_gender','product_brand','product_category1', 'product_category2',\n",
    "                'product_category3','product_category4','product_category5','product_category6',\n",
    "                'product_category7','product_country','product_id','product_title','partner_id','user_id']"
   ]
  },
  {
   "cell_type": "markdown",
   "metadata": {},
   "source": [
    "# 주어진 과제에 맞게, Data Processing"
   ]
  },
  {
   "cell_type": "markdown",
   "metadata": {},
   "source": [
    "## 1. 데이터 선택\n",
    "\n",
    "- target label은 데이터 세트의 첫번째 컬럼을 사용\n",
    "- 각 데이터는 20개의 feature를 갖는다"
   ]
  },
  {
   "cell_type": "code",
   "execution_count": 5,
   "metadata": {},
   "outputs": [],
   "source": [
    "data = df.copy()"
   ]
  },
  {
   "cell_type": "code",
   "execution_count": 6,
   "metadata": {},
   "outputs": [],
   "source": [
    "# 과제에서 label_columns 중 빼라고 한, SaleAmountInEuro와 Time_delay_for_conversion 변수 삭제\n",
    "unused_label_columns = ['SaleAmountInEuro', 'Time_delay_for_conversion']\n",
    "data = data.drop(unused_label_columns, axis=1)"
   ]
  },
  {
   "cell_type": "markdown",
   "metadata": {},
   "source": [
    "## 2. 특정 값으로 지정한 결측치, nan으로 변경\n",
    "\n",
    "- 대부분의 변수의 결측치는 '-1'로 지정됨\n",
    "- click_time_stamp 변수의 결측치만 '0'으로 지정됨"
   ]
  },
  {
   "cell_type": "code",
   "execution_count": 7,
   "metadata": {},
   "outputs": [],
   "source": [
    "for col in data.columns:\n",
    "    \n",
    "    # click_time_stamp 변수의 결측치만 '0'으로 지정됨\n",
    "    if col == 'click_timestamp':\n",
    "        data.loc[data[data[col]=='0'].index, col] = np.nan\n",
    "    \n",
    "    # 대부분의 변수의 결측치는 '-1'로 지정됨\n",
    "    else:\n",
    "        data.loc[data[data[col]=='-1'].index, col] = np.nan"
   ]
  },
  {
   "cell_type": "code",
   "execution_count": 8,
   "metadata": {},
   "outputs": [],
   "source": [
    "def summary(data):\n",
    "    frame_info = []\n",
    "    for col in data.columns:\n",
    "        # column, column unique 길이, column null 갯수, column 데이터 형태, column 데이터\n",
    "        frame_info.append([col, len(data[col].unique()), data[col].isnull().sum(), data[col].isnull().sum()/len(data)*100, data[col].dtype, data[col].unique()[:5]])\n",
    "\n",
    "    # frame_info를 dataframe 형태로 변환\n",
    "    df_info = pd.DataFrame(frame_info, columns=['name', 'num_of_unique', 'num_of_nan', 'ratio_of_nan', 'dtype', 'front5_values'])\n",
    "    return df_info"
   ]
  },
  {
   "cell_type": "code",
   "execution_count": 9,
   "metadata": {
    "scrolled": true
   },
   "outputs": [
    {
     "data": {
      "text/html": [
       "<div>\n",
       "<style scoped>\n",
       "    .dataframe tbody tr th:only-of-type {\n",
       "        vertical-align: middle;\n",
       "    }\n",
       "\n",
       "    .dataframe tbody tr th {\n",
       "        vertical-align: top;\n",
       "    }\n",
       "\n",
       "    .dataframe thead th {\n",
       "        text-align: right;\n",
       "    }\n",
       "</style>\n",
       "<table border=\"1\" class=\"dataframe\">\n",
       "  <thead>\n",
       "    <tr style=\"text-align: right;\">\n",
       "      <th></th>\n",
       "      <th>name</th>\n",
       "      <th>num_of_unique</th>\n",
       "      <th>num_of_nan</th>\n",
       "      <th>ratio_of_nan</th>\n",
       "      <th>dtype</th>\n",
       "      <th>front5_values</th>\n",
       "    </tr>\n",
       "  </thead>\n",
       "  <tbody>\n",
       "    <tr>\n",
       "      <th>0</th>\n",
       "      <td>Sale</td>\n",
       "      <td>2</td>\n",
       "      <td>0</td>\n",
       "      <td>0.000000</td>\n",
       "      <td>object</td>\n",
       "      <td>[0, 1]</td>\n",
       "    </tr>\n",
       "    <tr>\n",
       "      <th>1</th>\n",
       "      <td>click_timestamp</td>\n",
       "      <td>1290642</td>\n",
       "      <td>0</td>\n",
       "      <td>0.000000</td>\n",
       "      <td>object</td>\n",
       "      <td>[1598891820, 1598925284, 1598892568, 159889117...</td>\n",
       "    </tr>\n",
       "    <tr>\n",
       "      <th>2</th>\n",
       "      <td>nb_clicks_1week</td>\n",
       "      <td>4044</td>\n",
       "      <td>642109</td>\n",
       "      <td>42.807267</td>\n",
       "      <td>object</td>\n",
       "      <td>[nan, 0, 9, 1, 234]</td>\n",
       "    </tr>\n",
       "    <tr>\n",
       "      <th>3</th>\n",
       "      <td>product_price</td>\n",
       "      <td>17596</td>\n",
       "      <td>0</td>\n",
       "      <td>0.000000</td>\n",
       "      <td>object</td>\n",
       "      <td>[0.0, 49.95, 158.33, 10.74, 13.19]</td>\n",
       "    </tr>\n",
       "    <tr>\n",
       "      <th>4</th>\n",
       "      <td>product_age_group</td>\n",
       "      <td>11</td>\n",
       "      <td>1107595</td>\n",
       "      <td>73.839667</td>\n",
       "      <td>object</td>\n",
       "      <td>[nan, 4C90FD52FC53D2C1C205844CB69575AB, 0CD76C...</td>\n",
       "    </tr>\n",
       "    <tr>\n",
       "      <th>5</th>\n",
       "      <td>device_type</td>\n",
       "      <td>7</td>\n",
       "      <td>271</td>\n",
       "      <td>0.018067</td>\n",
       "      <td>object</td>\n",
       "      <td>[7E56C27BFF0305E788DA55A029EC4988, D7D1FB49049...</td>\n",
       "    </tr>\n",
       "    <tr>\n",
       "      <th>6</th>\n",
       "      <td>audience_id</td>\n",
       "      <td>12153</td>\n",
       "      <td>1074442</td>\n",
       "      <td>71.629467</td>\n",
       "      <td>object</td>\n",
       "      <td>[nan, B0E6BD3ACC0707BAB31CA2C2B08E652F, ED3775...</td>\n",
       "    </tr>\n",
       "    <tr>\n",
       "      <th>7</th>\n",
       "      <td>product_gender</td>\n",
       "      <td>17</td>\n",
       "      <td>1096875</td>\n",
       "      <td>73.125000</td>\n",
       "      <td>object</td>\n",
       "      <td>[nan, 1B491180398E2F0390E6A588B3BCE291, A5D15F...</td>\n",
       "    </tr>\n",
       "    <tr>\n",
       "      <th>8</th>\n",
       "      <td>product_brand</td>\n",
       "      <td>25521</td>\n",
       "      <td>680072</td>\n",
       "      <td>45.338133</td>\n",
       "      <td>object</td>\n",
       "      <td>[nan, 3CE3D1623D32FB2A901822910AF72A0B, 567889...</td>\n",
       "    </tr>\n",
       "    <tr>\n",
       "      <th>9</th>\n",
       "      <td>product_category1</td>\n",
       "      <td>22</td>\n",
       "      <td>583226</td>\n",
       "      <td>38.881733</td>\n",
       "      <td>object</td>\n",
       "      <td>[nan, 033E492229C2222EFAA16EE8A6462D8B, EC997D...</td>\n",
       "    </tr>\n",
       "    <tr>\n",
       "      <th>10</th>\n",
       "      <td>product_category2</td>\n",
       "      <td>170</td>\n",
       "      <td>583866</td>\n",
       "      <td>38.924400</td>\n",
       "      <td>object</td>\n",
       "      <td>[nan, CD599E5A946D00A81A875E085F7EF1E8, 1CA629...</td>\n",
       "    </tr>\n",
       "    <tr>\n",
       "      <th>11</th>\n",
       "      <td>product_category3</td>\n",
       "      <td>973</td>\n",
       "      <td>694469</td>\n",
       "      <td>46.297933</td>\n",
       "      <td>object</td>\n",
       "      <td>[nan, F791095E78AAC9F6A0C9D4948E6AA729, 2B30C8...</td>\n",
       "    </tr>\n",
       "    <tr>\n",
       "      <th>12</th>\n",
       "      <td>product_category4</td>\n",
       "      <td>1401</td>\n",
       "      <td>988873</td>\n",
       "      <td>65.924867</td>\n",
       "      <td>object</td>\n",
       "      <td>[nan, E970B6E90DCE5E7769360E6BD6532433, 453F53...</td>\n",
       "    </tr>\n",
       "    <tr>\n",
       "      <th>13</th>\n",
       "      <td>product_category5</td>\n",
       "      <td>749</td>\n",
       "      <td>1369669</td>\n",
       "      <td>91.311267</td>\n",
       "      <td>object</td>\n",
       "      <td>[nan, 17B7ED5C6FE3EF8EC27330318AE867B9, 8900F7...</td>\n",
       "    </tr>\n",
       "    <tr>\n",
       "      <th>14</th>\n",
       "      <td>product_category6</td>\n",
       "      <td>185</td>\n",
       "      <td>1474888</td>\n",
       "      <td>98.325867</td>\n",
       "      <td>object</td>\n",
       "      <td>[nan, 166445CD849E93ECEB9A453B74467289, 4E6CAF...</td>\n",
       "    </tr>\n",
       "    <tr>\n",
       "      <th>15</th>\n",
       "      <td>product_category7</td>\n",
       "      <td>4</td>\n",
       "      <td>1499988</td>\n",
       "      <td>99.999200</td>\n",
       "      <td>object</td>\n",
       "      <td>[nan, EE40DC4A754052FAC367C5D3E32C1422, DAE53D...</td>\n",
       "    </tr>\n",
       "    <tr>\n",
       "      <th>16</th>\n",
       "      <td>product_country</td>\n",
       "      <td>19</td>\n",
       "      <td>351349</td>\n",
       "      <td>23.423267</td>\n",
       "      <td>object</td>\n",
       "      <td>[57A1D462A03BD076E029CF9310C11FC5, nan, D963E3...</td>\n",
       "    </tr>\n",
       "    <tr>\n",
       "      <th>17</th>\n",
       "      <td>product_id</td>\n",
       "      <td>412828</td>\n",
       "      <td>350877</td>\n",
       "      <td>23.391800</td>\n",
       "      <td>object</td>\n",
       "      <td>[A66DB02AC1726A8D79C518B7F7AB79F0, 4C6C62203B4...</td>\n",
       "    </tr>\n",
       "    <tr>\n",
       "      <th>18</th>\n",
       "      <td>product_title</td>\n",
       "      <td>242259</td>\n",
       "      <td>583226</td>\n",
       "      <td>38.881733</td>\n",
       "      <td>object</td>\n",
       "      <td>[nan, 3CE3D1623D32FB2A901822910AF72A0B C83584C...</td>\n",
       "    </tr>\n",
       "    <tr>\n",
       "      <th>19</th>\n",
       "      <td>partner_id</td>\n",
       "      <td>298</td>\n",
       "      <td>0</td>\n",
       "      <td>0.000000</td>\n",
       "      <td>object</td>\n",
       "      <td>[E3DDEB04F8AFF944B11943BB57D2F620, BD01BAFAE73...</td>\n",
       "    </tr>\n",
       "    <tr>\n",
       "      <th>20</th>\n",
       "      <td>user_id</td>\n",
       "      <td>1461865</td>\n",
       "      <td>0</td>\n",
       "      <td>0.000000</td>\n",
       "      <td>object</td>\n",
       "      <td>[493CFB4A87C50804C94C0CF76ABD19CD, D0EBCD44021...</td>\n",
       "    </tr>\n",
       "  </tbody>\n",
       "</table>\n",
       "</div>"
      ],
      "text/plain": [
       "                 name  num_of_unique  num_of_nan  ratio_of_nan   dtype  \\\n",
       "0                Sale              2           0      0.000000  object   \n",
       "1     click_timestamp        1290642           0      0.000000  object   \n",
       "2     nb_clicks_1week           4044      642109     42.807267  object   \n",
       "3       product_price          17596           0      0.000000  object   \n",
       "4   product_age_group             11     1107595     73.839667  object   \n",
       "5         device_type              7         271      0.018067  object   \n",
       "6         audience_id          12153     1074442     71.629467  object   \n",
       "7      product_gender             17     1096875     73.125000  object   \n",
       "8       product_brand          25521      680072     45.338133  object   \n",
       "9   product_category1             22      583226     38.881733  object   \n",
       "10  product_category2            170      583866     38.924400  object   \n",
       "11  product_category3            973      694469     46.297933  object   \n",
       "12  product_category4           1401      988873     65.924867  object   \n",
       "13  product_category5            749     1369669     91.311267  object   \n",
       "14  product_category6            185     1474888     98.325867  object   \n",
       "15  product_category7              4     1499988     99.999200  object   \n",
       "16    product_country             19      351349     23.423267  object   \n",
       "17         product_id         412828      350877     23.391800  object   \n",
       "18      product_title         242259      583226     38.881733  object   \n",
       "19         partner_id            298           0      0.000000  object   \n",
       "20            user_id        1461865           0      0.000000  object   \n",
       "\n",
       "                                        front5_values  \n",
       "0                                              [0, 1]  \n",
       "1   [1598891820, 1598925284, 1598892568, 159889117...  \n",
       "2                                 [nan, 0, 9, 1, 234]  \n",
       "3                  [0.0, 49.95, 158.33, 10.74, 13.19]  \n",
       "4   [nan, 4C90FD52FC53D2C1C205844CB69575AB, 0CD76C...  \n",
       "5   [7E56C27BFF0305E788DA55A029EC4988, D7D1FB49049...  \n",
       "6   [nan, B0E6BD3ACC0707BAB31CA2C2B08E652F, ED3775...  \n",
       "7   [nan, 1B491180398E2F0390E6A588B3BCE291, A5D15F...  \n",
       "8   [nan, 3CE3D1623D32FB2A901822910AF72A0B, 567889...  \n",
       "9   [nan, 033E492229C2222EFAA16EE8A6462D8B, EC997D...  \n",
       "10  [nan, CD599E5A946D00A81A875E085F7EF1E8, 1CA629...  \n",
       "11  [nan, F791095E78AAC9F6A0C9D4948E6AA729, 2B30C8...  \n",
       "12  [nan, E970B6E90DCE5E7769360E6BD6532433, 453F53...  \n",
       "13  [nan, 17B7ED5C6FE3EF8EC27330318AE867B9, 8900F7...  \n",
       "14  [nan, 166445CD849E93ECEB9A453B74467289, 4E6CAF...  \n",
       "15  [nan, EE40DC4A754052FAC367C5D3E32C1422, DAE53D...  \n",
       "16  [57A1D462A03BD076E029CF9310C11FC5, nan, D963E3...  \n",
       "17  [A66DB02AC1726A8D79C518B7F7AB79F0, 4C6C62203B4...  \n",
       "18  [nan, 3CE3D1623D32FB2A901822910AF72A0B C83584C...  \n",
       "19  [E3DDEB04F8AFF944B11943BB57D2F620, BD01BAFAE73...  \n",
       "20  [493CFB4A87C50804C94C0CF76ABD19CD, D0EBCD44021...  "
      ]
     },
     "execution_count": 9,
     "metadata": {},
     "output_type": "execute_result"
    }
   ],
   "source": [
    "summary(data)"
   ]
  },
  {
   "cell_type": "markdown",
   "metadata": {},
   "source": [
    "## 3. 변수 설명에 맞게 타입 변환\n",
    "\n",
    "- Sale : 전환이 발생한 경우 1을 표시하고 그렇지 않은 경우 0, int\n",
    "- click_timestamp : 클릭의 타임스탬프, timestamp\n",
    "- nb_clicks_1week : 지난 1 주일 동안 제품 관련 광고에서 발생한 클릭 수, int\n",
    "- product_price : 광고에 표시된 제품의 가격, float\n",
    "- product_age_group : 제품이 만들어진 사용자의 의도 된 사용자 연령 그룹, object(11개)\n",
    "- device_type : 재 방문 사용자인지 모바일, 태블릿 또는 데스크톱의 신규 사용자인지, object(7게)\n",
    "- audience_id :이 기능의 의미를 공개하지 않습니다, object(12153개)\n",
    "- product_gender : 제품이 만들어진 사용자의 의도 된 성별, object(17개)\n",
    "- product_brand : 제품 브랜드에 대한 카테고리 기능, object(25521개)\n",
    "- product_category (1-7) : 제품과 관련된 범주 기능입니다. 우리는 이러한 기능의 의미를 공개하지 않습니다, object\n",
    "- product_country : 제품이 판매되는 국가, object(19개)\n",
    "- product_id : 모든 제품과 관련된 고유 식별자, object\n",
    "- product_title : 제품의 해시 된 제목, object\n",
    "- partner_id : 제품 판매자와 관련된 고유 식별자, object\n",
    "- user_id : 모든 사용자와 관련된 고유 식별자, object"
   ]
  },
  {
   "cell_type": "code",
   "execution_count": 10,
   "metadata": {},
   "outputs": [],
   "source": [
    "# Sale : int 형태로 변환\n",
    "data = data.astype({'Sale' : int})\n",
    "\n",
    "# click_timestamp : datetime 형태로 변환\n",
    "data = data.astype({'click_timestamp' : int})\n",
    "data['click_timestamp'] = [datetime.datetime.fromtimestamp(x) for x in data['click_timestamp']]\n",
    "\n",
    "# nb_clicks_1week : int 형태로 변환\n",
    "data['nb_clicks_1week'] = pd.to_numeric(data['nb_clicks_1week'], errors='coerce')\n",
    "\n",
    "# product_price : float 형태로 변환\n",
    "data['product_price'] = pd.to_numeric(data['product_price'], errors='coerce')"
   ]
  },
  {
   "cell_type": "code",
   "execution_count": 11,
   "metadata": {},
   "outputs": [
    {
     "name": "stdout",
     "output_type": "stream",
     "text": [
      "<class 'pandas.core.frame.DataFrame'>\n",
      "RangeIndex: 1500000 entries, 0 to 1499999\n",
      "Data columns (total 21 columns):\n",
      " #   Column             Non-Null Count    Dtype         \n",
      "---  ------             --------------    -----         \n",
      " 0   Sale               1500000 non-null  int32         \n",
      " 1   click_timestamp    1500000 non-null  datetime64[ns]\n",
      " 2   nb_clicks_1week    857891 non-null   float64       \n",
      " 3   product_price      1500000 non-null  float64       \n",
      " 4   product_age_group  392405 non-null   object        \n",
      " 5   device_type        1499729 non-null  object        \n",
      " 6   audience_id        425558 non-null   object        \n",
      " 7   product_gender     403125 non-null   object        \n",
      " 8   product_brand      819928 non-null   object        \n",
      " 9   product_category1  916774 non-null   object        \n",
      " 10  product_category2  916134 non-null   object        \n",
      " 11  product_category3  805531 non-null   object        \n",
      " 12  product_category4  511127 non-null   object        \n",
      " 13  product_category5  130331 non-null   object        \n",
      " 14  product_category6  25112 non-null    object        \n",
      " 15  product_category7  12 non-null       object        \n",
      " 16  product_country    1148651 non-null  object        \n",
      " 17  product_id         1149123 non-null  object        \n",
      " 18  product_title      916774 non-null   object        \n",
      " 19  partner_id         1500000 non-null  object        \n",
      " 20  user_id            1500000 non-null  object        \n",
      "dtypes: datetime64[ns](1), float64(2), int32(1), object(17)\n",
      "memory usage: 234.6+ MB\n"
     ]
    }
   ],
   "source": [
    "data.info()"
   ]
  },
  {
   "cell_type": "markdown",
   "metadata": {},
   "source": [
    "# 학습 데이터와 훈련 데이터 생성"
   ]
  },
  {
   "cell_type": "code",
   "execution_count": 12,
   "metadata": {},
   "outputs": [],
   "source": [
    "df_train = data[:1000000]\n",
    "df_test = data[1000000:]"
   ]
  },
  {
   "cell_type": "code",
   "execution_count": 13,
   "metadata": {},
   "outputs": [
    {
     "name": "stdout",
     "output_type": "stream",
     "text": [
      "학습 데이터 형태 :  (1000000, 21)\n",
      "훈련 데이터 형태 :  (500000, 21)\n"
     ]
    }
   ],
   "source": [
    "print('학습 데이터 형태 : ', df_train.shape)\n",
    "print('훈련 데이터 형태 : ', df_test.shape)"
   ]
  },
  {
   "cell_type": "markdown",
   "metadata": {},
   "source": [
    "# Data Processing"
   ]
  },
  {
   "cell_type": "markdown",
   "metadata": {},
   "source": [
    "## target variable\n",
    "- Sale"
   ]
  },
  {
   "cell_type": "code",
   "execution_count": 14,
   "metadata": {},
   "outputs": [
    {
     "data": {
      "text/plain": [
       "0    889930\n",
       "1    110070\n",
       "Name: Sale, dtype: int64"
      ]
     },
     "execution_count": 14,
     "metadata": {},
     "output_type": "execute_result"
    }
   ],
   "source": [
    "df_train['Sale'].value_counts()"
   ]
  },
  {
   "cell_type": "code",
   "execution_count": 15,
   "metadata": {},
   "outputs": [
    {
     "data": {
      "text/plain": [
       "0    442586\n",
       "1     57414\n",
       "Name: Sale, dtype: int64"
      ]
     },
     "execution_count": 15,
     "metadata": {},
     "output_type": "execute_result"
    }
   ],
   "source": [
    "df_test['Sale'].value_counts()"
   ]
  },
  {
   "cell_type": "markdown",
   "metadata": {},
   "source": [
    "## Features engineering"
   ]
  },
  {
   "cell_type": "code",
   "execution_count": 16,
   "metadata": {},
   "outputs": [
    {
     "data": {
      "text/plain": [
       "<matplotlib.axes._subplots.AxesSubplot at 0x2796e6d66a0>"
      ]
     },
     "execution_count": 16,
     "metadata": {},
     "output_type": "execute_result"
    }
   ],
   "source": [
    "df_train['nb_clicks_1week'].hist()"
   ]
  },
  {
   "cell_type": "code",
   "execution_count": 17,
   "metadata": {},
   "outputs": [
    {
     "data": {
      "text/plain": [
       "<matplotlib.axes._subplots.AxesSubplot at 0x2797a79afd0>"
      ]
     },
     "execution_count": 17,
     "metadata": {},
     "output_type": "execute_result"
    },
    {
     "data": {
      "image/png": "[encoded data removed]",
      "text/plain": [
       "<Figure size 432x288 with 1 Axes>"
      ]
     },
     "metadata": {
      "needs_background": "light"
     },
     "output_type": "display_data"
    }
   ],
   "source": [
    "np.log1p(df_train['nb_clicks_1week']).hist()"
   ]
  },
  {
   "cell_type": "code",
   "execution_count": 18,
   "metadata": {},
   "outputs": [
    {
     "data": {
      "text/plain": [
       "<matplotlib.axes._subplots.AxesSubplot at 0x278e7176550>"
      ]
     },
     "execution_count": 18,
     "metadata": {},
     "output_type": "execute_result"
    },
    {
     "data": {
      "image/png": "[encoded data removed]",
      "text/plain": [
       "<Figure size 432x288 with 1 Axes>"
      ]
     },
     "metadata": {
      "needs_background": "light"
     },
     "output_type": "display_data"
    }
   ],
   "source": [
    "df_train['product_price'].hist()"
   ]
  },
  {
   "cell_type": "code",
   "execution_count": 19,
   "metadata": {},
   "outputs": [
    {
     "data": {
      "text/plain": [
       "<matplotlib.axes._subplots.AxesSubplot at 0x278e7637a20>"
      ]
     },
     "execution_count": 19,
     "metadata": {},
     "output_type": "execute_result"
    },
    {
     "data": {
      "image/png": "[encoded data removed]",
      "text/plain": [
       "<Figure size 432x288 with 1 Axes>"
      ]
     },
     "metadata": {
      "needs_background": "light"
     },
     "output_type": "display_data"
    }
   ],
   "source": [
    "np.log1p(df_train['product_price']).hist()"
   ]
  },
  {
   "cell_type": "code",
   "execution_count": 20,
   "metadata": {},
   "outputs": [
    {
     "data": {
      "text/html": [
       "<div>\n",
       "<style scoped>\n",
       "    .dataframe tbody tr th:only-of-type {\n",
       "        vertical-align: middle;\n",
       "    }\n",
       "\n",
       "    .dataframe tbody tr th {\n",
       "        vertical-align: top;\n",
       "    }\n",
       "\n",
       "    .dataframe thead th {\n",
       "        text-align: right;\n",
       "    }\n",
       "</style>\n",
       "<table border=\"1\" class=\"dataframe\">\n",
       "  <thead>\n",
       "    <tr style=\"text-align: right;\">\n",
       "      <th></th>\n",
       "      <th>Sale</th>\n",
       "    </tr>\n",
       "    <tr>\n",
       "      <th>product_age_group</th>\n",
       "      <th></th>\n",
       "    </tr>\n",
       "  </thead>\n",
       "  <tbody>\n",
       "    <tr>\n",
       "      <th>0CD76C7030D0900BE250C8D41703D180</th>\n",
       "      <td>0.129373</td>\n",
       "    </tr>\n",
       "    <tr>\n",
       "      <th>3FEC071EF6B3D061D8804E0522FF4D2A</th>\n",
       "      <td>0.111111</td>\n",
       "    </tr>\n",
       "    <tr>\n",
       "      <th>4C90FD52FC53D2C1C205844CB69575AB</th>\n",
       "      <td>0.094473</td>\n",
       "    </tr>\n",
       "    <tr>\n",
       "      <th>538912C31E773613AB51FBAE58492476</th>\n",
       "      <td>0.129082</td>\n",
       "    </tr>\n",
       "    <tr>\n",
       "      <th>88460293E9517D21E39AA889BD5AADC8</th>\n",
       "      <td>0.093620</td>\n",
       "    </tr>\n",
       "    <tr>\n",
       "      <th>921B36149E5B081FD24450BFE2CE4430</th>\n",
       "      <td>0.149004</td>\n",
       "    </tr>\n",
       "    <tr>\n",
       "      <th>A443B40A19DB45968C2825CE225368DF</th>\n",
       "      <td>0.125373</td>\n",
       "    </tr>\n",
       "    <tr>\n",
       "      <th>D72D7E92251E4C54C786FDEFFA4DEF5A</th>\n",
       "      <td>0.202381</td>\n",
       "    </tr>\n",
       "    <tr>\n",
       "      <th>E7BD5A29457B8E92582951B586319A9C</th>\n",
       "      <td>0.201326</td>\n",
       "    </tr>\n",
       "    <tr>\n",
       "      <th>F716A9DB9D084CD5CFBDA30A923016E1</th>\n",
       "      <td>0.039347</td>\n",
       "    </tr>\n",
       "  </tbody>\n",
       "</table>\n",
       "</div>"
      ],
      "text/plain": [
       "                                      Sale\n",
       "product_age_group                         \n",
       "0CD76C7030D0900BE250C8D41703D180  0.129373\n",
       "3FEC071EF6B3D061D8804E0522FF4D2A  0.111111\n",
       "4C90FD52FC53D2C1C205844CB69575AB  0.094473\n",
       "538912C31E773613AB51FBAE58492476  0.129082\n",
       "88460293E9517D21E39AA889BD5AADC8  0.093620\n",
       "921B36149E5B081FD24450BFE2CE4430  0.149004\n",
       "A443B40A19DB45968C2825CE225368DF  0.125373\n",
       "D72D7E92251E4C54C786FDEFFA4DEF5A  0.202381\n",
       "E7BD5A29457B8E92582951B586319A9C  0.201326\n",
       "F716A9DB9D084CD5CFBDA30A923016E1  0.039347"
      ]
     },
     "execution_count": 20,
     "metadata": {},
     "output_type": "execute_result"
    }
   ],
   "source": [
    "df_train[['product_age_group','Sale']].groupby('product_age_group').mean()"
   ]
  },
  {
   "cell_type": "code",
   "execution_count": 21,
   "metadata": {},
   "outputs": [
    {
     "data": {
      "text/html": [
       "<div>\n",
       "<style scoped>\n",
       "    .dataframe tbody tr th:only-of-type {\n",
       "        vertical-align: middle;\n",
       "    }\n",
       "\n",
       "    .dataframe tbody tr th {\n",
       "        vertical-align: top;\n",
       "    }\n",
       "\n",
       "    .dataframe thead th {\n",
       "        text-align: right;\n",
       "    }\n",
       "</style>\n",
       "<table border=\"1\" class=\"dataframe\">\n",
       "  <thead>\n",
       "    <tr style=\"text-align: right;\">\n",
       "      <th></th>\n",
       "      <th>Sale</th>\n",
       "    </tr>\n",
       "    <tr>\n",
       "      <th>product_category7</th>\n",
       "      <th></th>\n",
       "    </tr>\n",
       "  </thead>\n",
       "  <tbody>\n",
       "    <tr>\n",
       "      <th>C8A87115C9B5521CB91F63D589E2D7F4</th>\n",
       "      <td>0.250000</td>\n",
       "    </tr>\n",
       "    <tr>\n",
       "      <th>DAE53D1DEBF527CB677F4C79AA0DEC0D</th>\n",
       "      <td>0.333333</td>\n",
       "    </tr>\n",
       "    <tr>\n",
       "      <th>EE40DC4A754052FAC367C5D3E32C1422</th>\n",
       "      <td>0.000000</td>\n",
       "    </tr>\n",
       "  </tbody>\n",
       "</table>\n",
       "</div>"
      ],
      "text/plain": [
       "                                      Sale\n",
       "product_category7                         \n",
       "C8A87115C9B5521CB91F63D589E2D7F4  0.250000\n",
       "DAE53D1DEBF527CB677F4C79AA0DEC0D  0.333333\n",
       "EE40DC4A754052FAC367C5D3E32C1422  0.000000"
      ]
     },
     "execution_count": 21,
     "metadata": {},
     "output_type": "execute_result"
    }
   ],
   "source": [
    "df_train[['product_category7','Sale']].groupby('product_category7').mean()"
   ]
  },
  {
   "cell_type": "markdown",
   "metadata": {},
   "source": [
    "## 1. Missing data"
   ]
  },
  {
   "cell_type": "code",
   "execution_count": 22,
   "metadata": {},
   "outputs": [
    {
     "data": {
      "text/plain": [
       "Sale                      0\n",
       "click_timestamp           0\n",
       "nb_clicks_1week      425231\n",
       "product_price             0\n",
       "product_age_group    735462\n",
       "device_type             177\n",
       "audience_id          714461\n",
       "product_gender       727508\n",
       "product_brand        440251\n",
       "product_category1    382751\n",
       "product_category2    383185\n",
       "product_category3    457748\n",
       "product_category4    656148\n",
       "product_category5    912709\n",
       "product_category6    983076\n",
       "product_category7    999990\n",
       "product_country      233152\n",
       "product_id           232878\n",
       "product_title        382751\n",
       "partner_id                0\n",
       "user_id                   0\n",
       "dtype: int64"
      ]
     },
     "execution_count": 22,
     "metadata": {},
     "output_type": "execute_result"
    }
   ],
   "source": [
    "df_train.isnull().sum()"
   ]
  },
  {
   "cell_type": "code",
   "execution_count": 23,
   "metadata": {},
   "outputs": [
    {
     "data": {
      "text/plain": [
       "Sale                      0\n",
       "click_timestamp           0\n",
       "nb_clicks_1week      216878\n",
       "product_price             0\n",
       "product_age_group    372133\n",
       "device_type              94\n",
       "audience_id          359981\n",
       "product_gender       369367\n",
       "product_brand        239821\n",
       "product_category1    200475\n",
       "product_category2    200681\n",
       "product_category3    236721\n",
       "product_category4    332725\n",
       "product_category5    456960\n",
       "product_category6    491812\n",
       "product_category7    499998\n",
       "product_country      118197\n",
       "product_id           117999\n",
       "product_title        200475\n",
       "partner_id                0\n",
       "user_id                   0\n",
       "dtype: int64"
      ]
     },
     "execution_count": 23,
     "metadata": {},
     "output_type": "execute_result"
    }
   ],
   "source": [
    "df_test.isnull().sum()"
   ]
  },
  {
   "cell_type": "markdown",
   "metadata": {},
   "source": [
    "## 2. data correlation & 정규화"
   ]
  },
  {
   "cell_type": "code",
   "execution_count": 24,
   "metadata": {},
   "outputs": [
    {
     "data": {
      "text/html": [
       "<div>\n",
       "<style scoped>\n",
       "    .dataframe tbody tr th:only-of-type {\n",
       "        vertical-align: middle;\n",
       "    }\n",
       "\n",
       "    .dataframe tbody tr th {\n",
       "        vertical-align: top;\n",
       "    }\n",
       "\n",
       "    .dataframe thead th {\n",
       "        text-align: right;\n",
       "    }\n",
       "</style>\n",
       "<table border=\"1\" class=\"dataframe\">\n",
       "  <thead>\n",
       "    <tr style=\"text-align: right;\">\n",
       "      <th></th>\n",
       "      <th>Sale</th>\n",
       "      <th>nb_clicks_1week</th>\n",
       "      <th>product_price</th>\n",
       "    </tr>\n",
       "  </thead>\n",
       "  <tbody>\n",
       "    <tr>\n",
       "      <th>Sale</th>\n",
       "      <td>1.000000</td>\n",
       "      <td>-0.031454</td>\n",
       "      <td>0.279352</td>\n",
       "    </tr>\n",
       "    <tr>\n",
       "      <th>nb_clicks_1week</th>\n",
       "      <td>-0.031454</td>\n",
       "      <td>1.000000</td>\n",
       "      <td>0.005568</td>\n",
       "    </tr>\n",
       "    <tr>\n",
       "      <th>product_price</th>\n",
       "      <td>0.279352</td>\n",
       "      <td>0.005568</td>\n",
       "      <td>1.000000</td>\n",
       "    </tr>\n",
       "  </tbody>\n",
       "</table>\n",
       "</div>"
      ],
      "text/plain": [
       "                     Sale  nb_clicks_1week  product_price\n",
       "Sale             1.000000        -0.031454       0.279352\n",
       "nb_clicks_1week -0.031454         1.000000       0.005568\n",
       "product_price    0.279352         0.005568       1.000000"
      ]
     },
     "execution_count": 24,
     "metadata": {},
     "output_type": "execute_result"
    }
   ],
   "source": [
    "corr = df_train.corr()\n",
    "corr"
   ]
  },
  {
   "cell_type": "code",
   "execution_count": 25,
   "metadata": {},
   "outputs": [
    {
     "data": {
      "text/html": [
       "<div>\n",
       "<style scoped>\n",
       "    .dataframe tbody tr th:only-of-type {\n",
       "        vertical-align: middle;\n",
       "    }\n",
       "\n",
       "    .dataframe tbody tr th {\n",
       "        vertical-align: top;\n",
       "    }\n",
       "\n",
       "    .dataframe thead th {\n",
       "        text-align: right;\n",
       "    }\n",
       "</style>\n",
       "<table border=\"1\" class=\"dataframe\">\n",
       "  <thead>\n",
       "    <tr style=\"text-align: right;\">\n",
       "      <th></th>\n",
       "      <th>Sale</th>\n",
       "      <th>nb_clicks_1week</th>\n",
       "      <th>product_price</th>\n",
       "    </tr>\n",
       "  </thead>\n",
       "  <tbody>\n",
       "    <tr>\n",
       "      <th>Sale</th>\n",
       "      <td>1.000000</td>\n",
       "      <td>-0.035383</td>\n",
       "      <td>0.278369</td>\n",
       "    </tr>\n",
       "    <tr>\n",
       "      <th>nb_clicks_1week</th>\n",
       "      <td>-0.035383</td>\n",
       "      <td>1.000000</td>\n",
       "      <td>0.005530</td>\n",
       "    </tr>\n",
       "    <tr>\n",
       "      <th>product_price</th>\n",
       "      <td>0.278369</td>\n",
       "      <td>0.005530</td>\n",
       "      <td>1.000000</td>\n",
       "    </tr>\n",
       "  </tbody>\n",
       "</table>\n",
       "</div>"
      ],
      "text/plain": [
       "                     Sale  nb_clicks_1week  product_price\n",
       "Sale             1.000000        -0.035383       0.278369\n",
       "nb_clicks_1week -0.035383         1.000000       0.005530\n",
       "product_price    0.278369         0.005530       1.000000"
      ]
     },
     "execution_count": 25,
     "metadata": {},
     "output_type": "execute_result"
    }
   ],
   "source": [
    "corr = df_test.corr()\n",
    "corr"
   ]
  },
  {
   "cell_type": "code",
   "execution_count": 26,
   "metadata": {},
   "outputs": [
    {
     "name": "stderr",
     "output_type": "stream",
     "text": [
      "C:\\Users\\user\\Anaconda3\\lib\\site-packages\\ipykernel_launcher.py:1: SettingWithCopyWarning: \n",
      "A value is trying to be set on a copy of a slice from a DataFrame.\n",
      "Try using .loc[row_indexer,col_indexer] = value instead\n",
      "\n",
      "See the caveats in the documentation: https://pandas.pydata.org/pandas-docs/stable/user_guide/indexing.html#returning-a-view-versus-a-copy\n",
      "  \"\"\"Entry point for launching an IPython kernel.\n",
      "C:\\Users\\user\\Anaconda3\\lib\\site-packages\\ipykernel_launcher.py:2: SettingWithCopyWarning: \n",
      "A value is trying to be set on a copy of a slice from a DataFrame.\n",
      "Try using .loc[row_indexer,col_indexer] = value instead\n",
      "\n",
      "See the caveats in the documentation: https://pandas.pydata.org/pandas-docs/stable/user_guide/indexing.html#returning-a-view-versus-a-copy\n",
      "  \n",
      "C:\\Users\\user\\Anaconda3\\lib\\site-packages\\ipykernel_launcher.py:4: SettingWithCopyWarning: \n",
      "A value is trying to be set on a copy of a slice from a DataFrame.\n",
      "Try using .loc[row_indexer,col_indexer] = value instead\n",
      "\n",
      "See the caveats in the documentation: https://pandas.pydata.org/pandas-docs/stable/user_guide/indexing.html#returning-a-view-versus-a-copy\n",
      "  after removing the cwd from sys.path.\n",
      "C:\\Users\\user\\Anaconda3\\lib\\site-packages\\ipykernel_launcher.py:5: SettingWithCopyWarning: \n",
      "A value is trying to be set on a copy of a slice from a DataFrame.\n",
      "Try using .loc[row_indexer,col_indexer] = value instead\n",
      "\n",
      "See the caveats in the documentation: https://pandas.pydata.org/pandas-docs/stable/user_guide/indexing.html#returning-a-view-versus-a-copy\n",
      "  \"\"\"\n"
     ]
    }
   ],
   "source": [
    "df_train['nb_clicks_1week'] = np.log1p(df_train['nb_clicks_1week'])\n",
    "df_train['product_price'] = np.log1p(df_train['product_price'])\n",
    "\n",
    "df_test['nb_clicks_1week'] = np.log1p(df_test['nb_clicks_1week'])\n",
    "df_test['product_price'] = np.log1p(df_test['product_price'])"
   ]
  },
  {
   "cell_type": "code",
   "execution_count": 27,
   "metadata": {},
   "outputs": [
    {
     "data": {
      "text/html": [
       "<div>\n",
       "<style scoped>\n",
       "    .dataframe tbody tr th:only-of-type {\n",
       "        vertical-align: middle;\n",
       "    }\n",
       "\n",
       "    .dataframe tbody tr th {\n",
       "        vertical-align: top;\n",
       "    }\n",
       "\n",
       "    .dataframe thead th {\n",
       "        text-align: right;\n",
       "    }\n",
       "</style>\n",
       "<table border=\"1\" class=\"dataframe\">\n",
       "  <thead>\n",
       "    <tr style=\"text-align: right;\">\n",
       "      <th></th>\n",
       "      <th>Sale</th>\n",
       "      <th>nb_clicks_1week</th>\n",
       "      <th>product_price</th>\n",
       "    </tr>\n",
       "  </thead>\n",
       "  <tbody>\n",
       "    <tr>\n",
       "      <th>Sale</th>\n",
       "      <td>1.000000</td>\n",
       "      <td>-0.060263</td>\n",
       "      <td>0.900250</td>\n",
       "    </tr>\n",
       "    <tr>\n",
       "      <th>nb_clicks_1week</th>\n",
       "      <td>-0.060263</td>\n",
       "      <td>1.000000</td>\n",
       "      <td>-0.045415</td>\n",
       "    </tr>\n",
       "    <tr>\n",
       "      <th>product_price</th>\n",
       "      <td>0.900250</td>\n",
       "      <td>-0.045415</td>\n",
       "      <td>1.000000</td>\n",
       "    </tr>\n",
       "  </tbody>\n",
       "</table>\n",
       "</div>"
      ],
      "text/plain": [
       "                     Sale  nb_clicks_1week  product_price\n",
       "Sale             1.000000        -0.060263       0.900250\n",
       "nb_clicks_1week -0.060263         1.000000      -0.045415\n",
       "product_price    0.900250        -0.045415       1.000000"
      ]
     },
     "execution_count": 27,
     "metadata": {},
     "output_type": "execute_result"
    }
   ],
   "source": [
    "corr = df_train.corr()\n",
    "corr"
   ]
  },
  {
   "cell_type": "code",
   "execution_count": 28,
   "metadata": {},
   "outputs": [
    {
     "data": {
      "text/html": [
       "<div>\n",
       "<style scoped>\n",
       "    .dataframe tbody tr th:only-of-type {\n",
       "        vertical-align: middle;\n",
       "    }\n",
       "\n",
       "    .dataframe tbody tr th {\n",
       "        vertical-align: top;\n",
       "    }\n",
       "\n",
       "    .dataframe thead th {\n",
       "        text-align: right;\n",
       "    }\n",
       "</style>\n",
       "<table border=\"1\" class=\"dataframe\">\n",
       "  <thead>\n",
       "    <tr style=\"text-align: right;\">\n",
       "      <th></th>\n",
       "      <th>Sale</th>\n",
       "      <th>nb_clicks_1week</th>\n",
       "      <th>product_price</th>\n",
       "    </tr>\n",
       "  </thead>\n",
       "  <tbody>\n",
       "    <tr>\n",
       "      <th>Sale</th>\n",
       "      <td>1.000000</td>\n",
       "      <td>-0.066484</td>\n",
       "      <td>0.900775</td>\n",
       "    </tr>\n",
       "    <tr>\n",
       "      <th>nb_clicks_1week</th>\n",
       "      <td>-0.066484</td>\n",
       "      <td>1.000000</td>\n",
       "      <td>-0.048857</td>\n",
       "    </tr>\n",
       "    <tr>\n",
       "      <th>product_price</th>\n",
       "      <td>0.900775</td>\n",
       "      <td>-0.048857</td>\n",
       "      <td>1.000000</td>\n",
       "    </tr>\n",
       "  </tbody>\n",
       "</table>\n",
       "</div>"
      ],
      "text/plain": [
       "                     Sale  nb_clicks_1week  product_price\n",
       "Sale             1.000000        -0.066484       0.900775\n",
       "nb_clicks_1week -0.066484         1.000000      -0.048857\n",
       "product_price    0.900775        -0.048857       1.000000"
      ]
     },
     "execution_count": 28,
     "metadata": {},
     "output_type": "execute_result"
    }
   ],
   "source": [
    "corr = df_test.corr()\n",
    "corr"
   ]
  },
  {
   "cell_type": "markdown",
   "metadata": {},
   "source": [
    "## 3. Imputing missing values"
   ]
  },
  {
   "cell_type": "code",
   "execution_count": 29,
   "metadata": {},
   "outputs": [
    {
     "name": "stderr",
     "output_type": "stream",
     "text": [
      "C:\\Users\\user\\Anaconda3\\lib\\site-packages\\pandas\\core\\frame.py:4327: SettingWithCopyWarning: \n",
      "A value is trying to be set on a copy of a slice from a DataFrame\n",
      "\n",
      "See the caveats in the documentation: https://pandas.pydata.org/pandas-docs/stable/user_guide/indexing.html#returning-a-view-versus-a-copy\n",
      "  downcast=downcast,\n"
     ]
    }
   ],
   "source": [
    "df_train.fillna('N', inplace=True)\n",
    "df_test.fillna('N', inplace=True)"
   ]
  },
  {
   "cell_type": "markdown",
   "metadata": {},
   "source": [
    "## 4. 변수 선택"
   ]
  },
  {
   "cell_type": "code",
   "execution_count": 30,
   "metadata": {},
   "outputs": [],
   "source": [
    "df_train = df_train[['Sale','product_price','product_age_group','device_type','product_gender','product_category1','product_category7','product_country']]\n",
    "df_test = df_test[['Sale','product_price','product_age_group','device_type','product_gender','product_category1','product_category7','product_country']]"
   ]
  },
  {
   "cell_type": "markdown",
   "metadata": {},
   "source": [
    "## 5. 더미화 "
   ]
  },
  {
   "cell_type": "code",
   "execution_count": 31,
   "metadata": {},
   "outputs": [],
   "source": [
    "df_train_y = df_train['Sale']\n",
    "df_test_y = df_test['Sale']\n",
    "\n",
    "df_train = df_train.loc[:,df_train.columns != 'Sale']\n",
    "df_test = df_test.loc[:,df_test.columns != 'Sale']"
   ]
  },
  {
   "cell_type": "code",
   "execution_count": 32,
   "metadata": {},
   "outputs": [],
   "source": [
    "df_full = pd.concat([df_train, df_test])\n",
    "df_full = pd.get_dummies(df_full) \n",
    "df_train = pd.get_dummies(df_train)\n",
    "df_test = pd.get_dummies(df_test)  "
   ]
  },
  {
   "cell_type": "code",
   "execution_count": 33,
   "metadata": {},
   "outputs": [
    {
     "name": "stdout",
     "output_type": "stream",
     "text": [
      "(1500000, 81)\n",
      "(1000000, 81)\n",
      "(500000, 77)\n"
     ]
    }
   ],
   "source": [
    "print(df_full.shape)\n",
    "print(df_train.shape)\n",
    "print(df_test.shape)"
   ]
  },
  {
   "cell_type": "code",
   "execution_count": 34,
   "metadata": {},
   "outputs": [],
   "source": [
    "df_train = df_full[0:1000000]\n",
    "df_test = df_full[1000000:]"
   ]
  },
  {
   "cell_type": "markdown",
   "metadata": {},
   "source": [
    "# Modeling"
   ]
  },
  {
   "cell_type": "markdown",
   "metadata": {},
   "source": [
    "## 학습 데이터(df_train)를 학습세트/평가세트 분리하기"
   ]
  },
  {
   "cell_type": "code",
   "execution_count": 35,
   "metadata": {},
   "outputs": [],
   "source": [
    "from sklearn.model_selection import train_test_split\n",
    "\n",
    "y_target = df_train_y\n",
    "X_features = df_train\n",
    "X_train, X_test, y_train, y_test = train_test_split(X_features, y_target, test_size=0.3, shuffle=True, stratify=y_target, random_state=11)"
   ]
  },
  {
   "cell_type": "markdown",
   "metadata": {},
   "source": [
    "## 데이터 정규화(스케일링)하기\n",
    "- StandardScaler : 평균 0, 표준편차 1로 변환하는 방법"
   ]
  },
  {
   "cell_type": "code",
   "execution_count": 36,
   "metadata": {},
   "outputs": [],
   "source": [
    "from sklearn.preprocessing import StandardScaler\n",
    "scaler = StandardScaler()\n",
    "X_train_scaler = scaler.fit_transform(X_train)\n",
    "X_test_scaler = scaler.transform(X_test)"
   ]
  },
  {
   "cell_type": "markdown",
   "metadata": {},
   "source": [
    "## 모델 생성 및 평가하기"
   ]
  },
  {
   "cell_type": "code",
   "execution_count": 37,
   "metadata": {
    "scrolled": true
   },
   "outputs": [
    {
     "name": "stderr",
     "output_type": "stream",
     "text": [
      "C:\\Users\\user\\Anaconda3\\lib\\site-packages\\sklearn\\linear_model\\_logistic.py:765: ConvergenceWarning: lbfgs failed to converge (status=1):\n",
      "STOP: TOTAL NO. of ITERATIONS REACHED LIMIT.\n",
      "\n",
      "Increase the number of iterations (max_iter) or scale the data as shown in:\n",
      "    https://scikit-learn.org/stable/modules/preprocessing.html\n",
      "Please also refer to the documentation for alternative solver options:\n",
      "    https://scikit-learn.org/stable/modules/linear_model.html#logistic-regression\n",
      "  extra_warning_msg=_LOGISTIC_SOLVER_CONVERGENCE_MSG)\n"
     ]
    },
    {
     "data": {
      "text/plain": [
       "LogisticRegression()"
      ]
     },
     "execution_count": 37,
     "metadata": {},
     "output_type": "execute_result"
    }
   ],
   "source": [
    "from sklearn.linear_model import LogisticRegression\n",
    "\n",
    "clf = LogisticRegression()\n",
    "clf.fit(X_train_scaler, y_train)"
   ]
  },
  {
   "cell_type": "code",
   "execution_count": 38,
   "metadata": {},
   "outputs": [
    {
     "name": "stderr",
     "output_type": "stream",
     "text": [
      "C:\\Users\\user\\Anaconda3\\lib\\site-packages\\sklearn\\model_selection\\_search.py:921: UserWarning: One or more of the test scores are non-finite: [       nan 0.98891414        nan 0.98929467        nan 0.9895713\n",
      "        nan 0.9896824         nan 0.98969838]\n",
      "  category=UserWarning\n",
      "C:\\Users\\user\\Anaconda3\\lib\\site-packages\\sklearn\\linear_model\\_logistic.py:765: ConvergenceWarning: lbfgs failed to converge (status=1):\n",
      "STOP: TOTAL NO. of ITERATIONS REACHED LIMIT.\n",
      "\n",
      "Increase the number of iterations (max_iter) or scale the data as shown in:\n",
      "    https://scikit-learn.org/stable/modules/preprocessing.html\n",
      "Please also refer to the documentation for alternative solver options:\n",
      "    https://scikit-learn.org/stable/modules/linear_model.html#logistic-regression\n",
      "  extra_warning_msg=_LOGISTIC_SOLVER_CONVERGENCE_MSG)\n"
     ]
    },
    {
     "data": {
      "text/plain": [
       "{'C': 10, 'penalty': 'l2'}"
      ]
     },
     "execution_count": 38,
     "metadata": {},
     "output_type": "execute_result"
    }
   ],
   "source": [
    "# 최적의 parameter 찾기\n",
    "\n",
    "from sklearn.model_selection import GridSearchCV\n",
    "\n",
    "parameters = {\"C\" : [0.001,0.01,0.1,1,10], \"penalty\" : ['l1','l2']}\n",
    "grid_search = GridSearchCV(clf, parameters, n_jobs=-1, cv=5, scoring='roc_auc')\n",
    "grid_search.fit(X_train_scaler, y_train)\n",
    "\n",
    "grid_search.best_params_"
   ]
  },
  {
   "cell_type": "markdown",
   "metadata": {},
   "source": [
    "- 학습 데이터의 평가 세트 평가"
   ]
  },
  {
   "cell_type": "code",
   "execution_count": 39,
   "metadata": {},
   "outputs": [
    {
     "data": {
      "text/plain": [
       "array([0, 0, 0, ..., 0, 0, 0])"
      ]
     },
     "execution_count": 39,
     "metadata": {},
     "output_type": "execute_result"
    }
   ],
   "source": [
    "clf_best = grid_search.best_estimator_\n",
    "\n",
    "y_pred = clf_best.predict(X_test_scaler)\n",
    "y_pred"
   ]
  },
  {
   "cell_type": "code",
   "execution_count": 40,
   "metadata": {},
   "outputs": [
    {
     "name": "stdout",
     "output_type": "stream",
     "text": [
      "accuracy score :  0.9919133333333333\n",
      "f1 score :  0.9618649396378269\n",
      "auc :  0.989403703045088\n"
     ]
    }
   ],
   "source": [
    "print('accuracy score : ', accuracy_score(y_test, y_pred))\n",
    "print('f1 score : ', f1_score(y_test, y_pred))\n",
    "\n",
    "y_pred_proba = clf_best.predict_proba(X_test_scaler)[:,1]\n",
    "auc = roc_auc_score(y_test, y_pred_proba)\n",
    "print('auc : ', auc)"
   ]
  },
  {
   "cell_type": "code",
   "execution_count": 41,
   "metadata": {},
   "outputs": [
    {
     "data": {
      "text/plain": [
       "array([7.71873577e-05, 2.79838999e-03, 1.29319171e-09, ...,\n",
       "       1.66569904e-09, 4.83678056e-03, 5.52010453e-11])"
      ]
     },
     "execution_count": 41,
     "metadata": {},
     "output_type": "execute_result"
    }
   ],
   "source": [
    "y_pred_proba"
   ]
  },
  {
   "cell_type": "markdown",
   "metadata": {},
   "source": [
    "- 훈련 데이터의 평가"
   ]
  },
  {
   "cell_type": "code",
   "execution_count": 42,
   "metadata": {},
   "outputs": [
    {
     "data": {
      "text/plain": [
       "array([0, 0, 0, ..., 0, 0, 0])"
      ]
     },
     "execution_count": 42,
     "metadata": {},
     "output_type": "execute_result"
    }
   ],
   "source": [
    "df_test_scaler = scaler.transform(df_test)\n",
    "y_pred = clf_best.predict(df_test_scaler)\n",
    "y_pred"
   ]
  },
  {
   "cell_type": "code",
   "execution_count": 43,
   "metadata": {},
   "outputs": [
    {
     "name": "stdout",
     "output_type": "stream",
     "text": [
      "accuracy score :  0.992062\n",
      "f1 score :  0.9641977647281682\n",
      "auc :  0.9899634299557007\n"
     ]
    }
   ],
   "source": [
    "print('accuracy score : ', accuracy_score(df_test_y, y_pred))\n",
    "print('f1 score : ', f1_score(df_test_y, y_pred))\n",
    "\n",
    "y_pred_proba = clf_best.predict_proba(df_test_scaler)[:,1]\n",
    "auc = roc_auc_score(df_test_y, y_pred_proba)\n",
    "print('auc : ', auc)"
   ]
  },
  {
   "cell_type": "markdown",
   "metadata": {},
   "source": [
    "# 모델을 model.dat 파일로 저장"
   ]
  },
  {
   "cell_type": "code",
   "execution_count": 44,
   "metadata": {},
   "outputs": [],
   "source": [
    "with open('model.dat','wb') as file:\n",
    "    pickle.dump(clf_best, file)"
   ]
  },
  {
   "cell_type": "code",
   "execution_count": 45,
   "metadata": {},
   "outputs": [
    {
     "data": {
      "text/plain": [
       "LogisticRegression(C=10)"
      ]
     },
     "execution_count": 45,
     "metadata": {},
     "output_type": "execute_result"
    }
   ],
   "source": [
    "infile = open('model.dat','rb')\n",
    "model = pickle.load(infile)\n",
    "model"
   ]
  },
  {
   "cell_type": "markdown",
   "metadata": {},
   "source": [
    "# 결과 파일 2개의 txt 파일로 저장"
   ]
  },
  {
   "cell_type": "code",
   "execution_count": 46,
   "metadata": {},
   "outputs": [],
   "source": [
    "def predict_df(test, test_scaler, test_label, model):\n",
    "    predict = model.predict_proba(test_scaler)[:,1]\n",
    "    \n",
    "    line_num = []\n",
    "    for i in test.index:\n",
    "        line_num.append(i+1)\n",
    "    \n",
    "    answer = pd.concat([pd.DataFrame(line_num), pd.DataFrame(list(test_label)), pd.DataFrame(predict)], axis=1)\n",
    "    answer.columns = ['Line Number', 'Target label', 'Predicted Probabilty']\n",
    "    return answer"
   ]
  },
  {
   "cell_type": "code",
   "execution_count": 47,
   "metadata": {},
   "outputs": [
    {
     "data": {
      "text/html": [
       "<div>\n",
       "<style scoped>\n",
       "    .dataframe tbody tr th:only-of-type {\n",
       "        vertical-align: middle;\n",
       "    }\n",
       "\n",
       "    .dataframe tbody tr th {\n",
       "        vertical-align: top;\n",
       "    }\n",
       "\n",
       "    .dataframe thead th {\n",
       "        text-align: right;\n",
       "    }\n",
       "</style>\n",
       "<table border=\"1\" class=\"dataframe\">\n",
       "  <thead>\n",
       "    <tr style=\"text-align: right;\">\n",
       "      <th></th>\n",
       "      <th>Line Number</th>\n",
       "      <th>Target label</th>\n",
       "      <th>Predicted Probabilty</th>\n",
       "    </tr>\n",
       "  </thead>\n",
       "  <tbody>\n",
       "    <tr>\n",
       "      <th>0</th>\n",
       "      <td>381133</td>\n",
       "      <td>0</td>\n",
       "      <td>7.718736e-05</td>\n",
       "    </tr>\n",
       "    <tr>\n",
       "      <th>1</th>\n",
       "      <td>373536</td>\n",
       "      <td>0</td>\n",
       "      <td>2.798390e-03</td>\n",
       "    </tr>\n",
       "    <tr>\n",
       "      <th>2</th>\n",
       "      <td>445886</td>\n",
       "      <td>0</td>\n",
       "      <td>1.293192e-09</td>\n",
       "    </tr>\n",
       "    <tr>\n",
       "      <th>3</th>\n",
       "      <td>203787</td>\n",
       "      <td>0</td>\n",
       "      <td>2.707941e-04</td>\n",
       "    </tr>\n",
       "    <tr>\n",
       "      <th>4</th>\n",
       "      <td>244515</td>\n",
       "      <td>0</td>\n",
       "      <td>3.757981e-02</td>\n",
       "    </tr>\n",
       "    <tr>\n",
       "      <th>...</th>\n",
       "      <td>...</td>\n",
       "      <td>...</td>\n",
       "      <td>...</td>\n",
       "    </tr>\n",
       "    <tr>\n",
       "      <th>299995</th>\n",
       "      <td>834059</td>\n",
       "      <td>0</td>\n",
       "      <td>2.474402e-02</td>\n",
       "    </tr>\n",
       "    <tr>\n",
       "      <th>299996</th>\n",
       "      <td>449048</td>\n",
       "      <td>0</td>\n",
       "      <td>9.110238e-05</td>\n",
       "    </tr>\n",
       "    <tr>\n",
       "      <th>299997</th>\n",
       "      <td>184622</td>\n",
       "      <td>0</td>\n",
       "      <td>1.665699e-09</td>\n",
       "    </tr>\n",
       "    <tr>\n",
       "      <th>299998</th>\n",
       "      <td>368046</td>\n",
       "      <td>0</td>\n",
       "      <td>4.836781e-03</td>\n",
       "    </tr>\n",
       "    <tr>\n",
       "      <th>299999</th>\n",
       "      <td>196616</td>\n",
       "      <td>0</td>\n",
       "      <td>5.520105e-11</td>\n",
       "    </tr>\n",
       "  </tbody>\n",
       "</table>\n",
       "<p>300000 rows × 3 columns</p>\n",
       "</div>"
      ],
      "text/plain": [
       "        Line Number  Target label  Predicted Probabilty\n",
       "0            381133             0          7.718736e-05\n",
       "1            373536             0          2.798390e-03\n",
       "2            445886             0          1.293192e-09\n",
       "3            203787             0          2.707941e-04\n",
       "4            244515             0          3.757981e-02\n",
       "...             ...           ...                   ...\n",
       "299995       834059             0          2.474402e-02\n",
       "299996       449048             0          9.110238e-05\n",
       "299997       184622             0          1.665699e-09\n",
       "299998       368046             0          4.836781e-03\n",
       "299999       196616             0          5.520105e-11\n",
       "\n",
       "[300000 rows x 3 columns]"
      ]
     },
     "execution_count": 47,
     "metadata": {},
     "output_type": "execute_result"
    }
   ],
   "source": [
    "train_result = predict_df(X_test, X_test_scaler, y_test, clf_best)\n",
    "train_result"
   ]
  },
  {
   "cell_type": "code",
   "execution_count": 48,
   "metadata": {},
   "outputs": [
    {
     "data": {
      "text/html": [
       "<div>\n",
       "<style scoped>\n",
       "    .dataframe tbody tr th:only-of-type {\n",
       "        vertical-align: middle;\n",
       "    }\n",
       "\n",
       "    .dataframe tbody tr th {\n",
       "        vertical-align: top;\n",
       "    }\n",
       "\n",
       "    .dataframe thead th {\n",
       "        text-align: right;\n",
       "    }\n",
       "</style>\n",
       "<table border=\"1\" class=\"dataframe\">\n",
       "  <thead>\n",
       "    <tr style=\"text-align: right;\">\n",
       "      <th></th>\n",
       "      <th>Line Number</th>\n",
       "      <th>Target label</th>\n",
       "      <th>Predicted Probabilty</th>\n",
       "    </tr>\n",
       "  </thead>\n",
       "  <tbody>\n",
       "    <tr>\n",
       "      <th>0</th>\n",
       "      <td>1000001</td>\n",
       "      <td>0</td>\n",
       "      <td>9.925201e-04</td>\n",
       "    </tr>\n",
       "    <tr>\n",
       "      <th>1</th>\n",
       "      <td>1000002</td>\n",
       "      <td>0</td>\n",
       "      <td>1.478388e-05</td>\n",
       "    </tr>\n",
       "    <tr>\n",
       "      <th>2</th>\n",
       "      <td>1000003</td>\n",
       "      <td>0</td>\n",
       "      <td>2.798390e-03</td>\n",
       "    </tr>\n",
       "    <tr>\n",
       "      <th>3</th>\n",
       "      <td>1000004</td>\n",
       "      <td>0</td>\n",
       "      <td>3.627186e-03</td>\n",
       "    </tr>\n",
       "    <tr>\n",
       "      <th>4</th>\n",
       "      <td>1000005</td>\n",
       "      <td>0</td>\n",
       "      <td>3.672401e-03</td>\n",
       "    </tr>\n",
       "    <tr>\n",
       "      <th>...</th>\n",
       "      <td>...</td>\n",
       "      <td>...</td>\n",
       "      <td>...</td>\n",
       "    </tr>\n",
       "    <tr>\n",
       "      <th>499995</th>\n",
       "      <td>1499996</td>\n",
       "      <td>0</td>\n",
       "      <td>1.179278e-09</td>\n",
       "    </tr>\n",
       "    <tr>\n",
       "      <th>499996</th>\n",
       "      <td>1499997</td>\n",
       "      <td>0</td>\n",
       "      <td>5.387480e-05</td>\n",
       "    </tr>\n",
       "    <tr>\n",
       "      <th>499997</th>\n",
       "      <td>1499998</td>\n",
       "      <td>0</td>\n",
       "      <td>2.922050e-02</td>\n",
       "    </tr>\n",
       "    <tr>\n",
       "      <th>499998</th>\n",
       "      <td>1499999</td>\n",
       "      <td>0</td>\n",
       "      <td>2.219064e-03</td>\n",
       "    </tr>\n",
       "    <tr>\n",
       "      <th>499999</th>\n",
       "      <td>1500000</td>\n",
       "      <td>0</td>\n",
       "      <td>1.840889e-03</td>\n",
       "    </tr>\n",
       "  </tbody>\n",
       "</table>\n",
       "<p>500000 rows × 3 columns</p>\n",
       "</div>"
      ],
      "text/plain": [
       "        Line Number  Target label  Predicted Probabilty\n",
       "0           1000001             0          9.925201e-04\n",
       "1           1000002             0          1.478388e-05\n",
       "2           1000003             0          2.798390e-03\n",
       "3           1000004             0          3.627186e-03\n",
       "4           1000005             0          3.672401e-03\n",
       "...             ...           ...                   ...\n",
       "499995      1499996             0          1.179278e-09\n",
       "499996      1499997             0          5.387480e-05\n",
       "499997      1499998             0          2.922050e-02\n",
       "499998      1499999             0          2.219064e-03\n",
       "499999      1500000             0          1.840889e-03\n",
       "\n",
       "[500000 rows x 3 columns]"
      ]
     },
     "execution_count": 48,
     "metadata": {},
     "output_type": "execute_result"
    }
   ],
   "source": [
    "test_result = predict_df(df_test, df_test_scaler, df_test_y, clf_best)\n",
    "test_result"
   ]
  },
  {
   "cell_type": "code",
   "execution_count": 49,
   "metadata": {},
   "outputs": [],
   "source": [
    "train_result.to_csv('text_result.txt', sep='\\t', index=False)\n",
    "test_result.to_csv('test_result.txt', sep='\\t', index=False)"
   ]
  }
 ],
 "metadata": {
  "kernelspec": {
   "display_name": "Python 3",
   "language": "python",
   "name": "python3"
  },
  "language_info": {
   "codemirror_mode": {
    "name": "ipython",
    "version": 3
   },
   "file_extension": ".py",
   "mimetype": "text/x-python",
   "name": "python",
   "nbconvert_exporter": "python",
   "pygments_lexer": "ipython3",
   "version": "3.7.0"
  }
 },
 "nbformat": 4,
 "nbformat_minor": 2
}
